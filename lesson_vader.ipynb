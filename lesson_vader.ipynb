{
 "cells": [
  {
   "cell_type": "markdown",
   "metadata": {},
   "source": [
    "## Agenda\n",
    "\n",
    "- PyTorch tensors\n",
    "- Naive methods for\n",
    "    - Linear regression\n",
    "    - Classification\n",
    "- Vectorization\n",
    "- Working with datasets\n",
    "- Intro to FastAI\n",
    "    - Training process\n",
    "    - Fine-tunign\n",
    "    - Creating an image dataset by hand"
   ]
  }
 ],
 "metadata": {
  "language_info": {
   "name": "python"
  }
 },
 "nbformat": 4,
 "nbformat_minor": 2
}
